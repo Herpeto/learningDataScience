{
 "cells": [
  {
   "cell_type": "code",
   "execution_count": 6,
   "id": "f38e537d-bc25-4493-9e80-8826efd0a120",
   "metadata": {
    "tags": []
   },
   "outputs": [
    {
     "name": "stdout",
     "output_type": "stream",
     "text": [
      "B\n",
      "<class 'tuple'>\n"
     ]
    }
   ],
   "source": [
    "def test(*ayam):\n",
    "    return ayam\n",
    "\n",
    "ikan = test('A','B','C')\n",
    "print(ikan[1])\n",
    "\n",
    "print(type(test('A','B','C')))"
   ]
  }
 ],
 "metadata": {
  "kernelspec": {
   "display_name": "Python 3 (ipykernel)",
   "language": "python",
   "name": "python3"
  },
  "language_info": {
   "codemirror_mode": {
    "name": "ipython",
    "version": 3
   },
   "file_extension": ".py",
   "mimetype": "text/x-python",
   "name": "python",
   "nbconvert_exporter": "python",
   "pygments_lexer": "ipython3",
   "version": "3.11.4"
  }
 },
 "nbformat": 4,
 "nbformat_minor": 5
}
