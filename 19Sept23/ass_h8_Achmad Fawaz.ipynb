{
 "cells": [
  {
   "cell_type": "code",
   "execution_count": 5,
   "metadata": {},
   "outputs": [],
   "source": [
    "import mysql.connector\n",
    "\n",
    "cnx = mysql.connector.connect(\n",
    "    user='root',\n",
    "    password='fawaz2402',\n",
    "    host='localhost')"
   ]
  },
  {
   "cell_type": "code",
   "execution_count": 6,
   "metadata": {},
   "outputs": [
    {
     "ename": "ProgrammingError",
     "evalue": "1146 (42S02): Table 'hacktiv8.players' doesn't exist",
     "output_type": "error",
     "traceback": [
      "\u001b[1;31m---------------------------------------------------------------------------\u001b[0m",
      "\u001b[1;31mMySQLInterfaceError\u001b[0m                       Traceback (most recent call last)",
      "File \u001b[1;32md:\\Users\\bsi80190\\AppData\\Local\\Programs\\Python\\Python311\\Lib\\site-packages\\mysql\\connector\\connection_cext.py:633\u001b[0m, in \u001b[0;36mCMySQLConnection.cmd_query\u001b[1;34m(self, query, raw, buffered, raw_as_string)\u001b[0m\n\u001b[0;32m    632\u001b[0m         query \u001b[39m=\u001b[39m query\u001b[39m.\u001b[39mencode(\u001b[39m\"\u001b[39m\u001b[39mutf-8\u001b[39m\u001b[39m\"\u001b[39m)\n\u001b[1;32m--> 633\u001b[0m     \u001b[39mself\u001b[39;49m\u001b[39m.\u001b[39;49m_cmysql\u001b[39m.\u001b[39;49mquery(\n\u001b[0;32m    634\u001b[0m         query,\n\u001b[0;32m    635\u001b[0m         raw\u001b[39m=\u001b[39;49mraw,\n\u001b[0;32m    636\u001b[0m         buffered\u001b[39m=\u001b[39;49mbuffered,\n\u001b[0;32m    637\u001b[0m         raw_as_string\u001b[39m=\u001b[39;49mraw_as_string,\n\u001b[0;32m    638\u001b[0m         query_attrs\u001b[39m=\u001b[39;49m\u001b[39mself\u001b[39;49m\u001b[39m.\u001b[39;49mquery_attrs,\n\u001b[0;32m    639\u001b[0m     )\n\u001b[0;32m    640\u001b[0m \u001b[39mexcept\u001b[39;00m MySQLInterfaceError \u001b[39mas\u001b[39;00m err:\n",
      "\u001b[1;31mMySQLInterfaceError\u001b[0m: Table 'hacktiv8.players' doesn't exist",
      "\nThe above exception was the direct cause of the following exception:\n",
      "\u001b[1;31mProgrammingError\u001b[0m                          Traceback (most recent call last)",
      "\u001b[1;32md:\\Users\\bsi80190\\Bootcamp\\19Sept23\\ass_h8.ipynb Cell 2\u001b[0m line \u001b[0;36m1\n\u001b[0;32m      <a href='vscode-notebook-cell:/d%3A/Users/bsi80190/Bootcamp/19Sept23/ass_h8.ipynb#W1sZmlsZQ%3D%3D?line=5'>6</a>\u001b[0m query \u001b[39m=\u001b[39m \u001b[39m\"\"\"\u001b[39m\u001b[39mselect *\u001b[39m\n\u001b[0;32m      <a href='vscode-notebook-cell:/d%3A/Users/bsi80190/Bootcamp/19Sept23/ass_h8.ipynb#W1sZmlsZQ%3D%3D?line=6'>7</a>\u001b[0m \u001b[39mfrom hacktiv8.players\u001b[39m\n\u001b[0;32m      <a href='vscode-notebook-cell:/d%3A/Users/bsi80190/Bootcamp/19Sept23/ass_h8.ipynb#W1sZmlsZQ%3D%3D?line=7'>8</a>\u001b[0m \u001b[39mlimit 5\u001b[39m\u001b[39m\"\"\"\u001b[39m\n\u001b[0;32m     <a href='vscode-notebook-cell:/d%3A/Users/bsi80190/Bootcamp/19Sept23/ass_h8.ipynb#W1sZmlsZQ%3D%3D?line=9'>10</a>\u001b[0m \u001b[39m#  execute this query\u001b[39;00m\n\u001b[1;32m---> <a href='vscode-notebook-cell:/d%3A/Users/bsi80190/Bootcamp/19Sept23/ass_h8.ipynb#W1sZmlsZQ%3D%3D?line=10'>11</a>\u001b[0m cur\u001b[39m.\u001b[39;49mexecute(query)\n\u001b[0;32m     <a href='vscode-notebook-cell:/d%3A/Users/bsi80190/Bootcamp/19Sept23/ass_h8.ipynb#W1sZmlsZQ%3D%3D?line=12'>13</a>\u001b[0m \u001b[39m# get rows\u001b[39;00m\n\u001b[0;32m     <a href='vscode-notebook-cell:/d%3A/Users/bsi80190/Bootcamp/19Sept23/ass_h8.ipynb#W1sZmlsZQ%3D%3D?line=13'>14</a>\u001b[0m rows  \u001b[39m=\u001b[39m cur\u001b[39m.\u001b[39mfetchall()\n",
      "File \u001b[1;32md:\\Users\\bsi80190\\AppData\\Local\\Programs\\Python\\Python311\\Lib\\site-packages\\mysql\\connector\\cursor_cext.py:330\u001b[0m, in \u001b[0;36mCMySQLCursor.execute\u001b[1;34m(self, operation, params, multi)\u001b[0m\n\u001b[0;32m    325\u001b[0m             \u001b[39mraise\u001b[39;00m ProgrammingError(\n\u001b[0;32m    326\u001b[0m                 \u001b[39m\"\u001b[39m\u001b[39mNot all parameters were used in the SQL statement\u001b[39m\u001b[39m\"\u001b[39m\n\u001b[0;32m    327\u001b[0m             )\n\u001b[0;32m    329\u001b[0m \u001b[39mtry\u001b[39;00m:\n\u001b[1;32m--> 330\u001b[0m     result \u001b[39m=\u001b[39m \u001b[39mself\u001b[39;49m\u001b[39m.\u001b[39;49m_cnx\u001b[39m.\u001b[39;49mcmd_query(\n\u001b[0;32m    331\u001b[0m         stmt,\n\u001b[0;32m    332\u001b[0m         raw\u001b[39m=\u001b[39;49m\u001b[39mself\u001b[39;49m\u001b[39m.\u001b[39;49m_raw,\n\u001b[0;32m    333\u001b[0m         buffered\u001b[39m=\u001b[39;49m\u001b[39mself\u001b[39;49m\u001b[39m.\u001b[39;49m_buffered,\n\u001b[0;32m    334\u001b[0m         raw_as_string\u001b[39m=\u001b[39;49m\u001b[39mself\u001b[39;49m\u001b[39m.\u001b[39;49m_raw_as_string,\n\u001b[0;32m    335\u001b[0m     )\n\u001b[0;32m    336\u001b[0m \u001b[39mexcept\u001b[39;00m MySQLInterfaceError \u001b[39mas\u001b[39;00m err:\n\u001b[0;32m    337\u001b[0m     \u001b[39mraise\u001b[39;00m get_mysql_exception(\n\u001b[0;32m    338\u001b[0m         msg\u001b[39m=\u001b[39merr\u001b[39m.\u001b[39mmsg, errno\u001b[39m=\u001b[39merr\u001b[39m.\u001b[39merrno, sqlstate\u001b[39m=\u001b[39merr\u001b[39m.\u001b[39msqlstate\n\u001b[0;32m    339\u001b[0m     ) \u001b[39mfrom\u001b[39;00m \u001b[39merr\u001b[39;00m\n",
      "File \u001b[1;32md:\\Users\\bsi80190\\AppData\\Local\\Programs\\Python\\Python311\\Lib\\site-packages\\mysql\\connector\\opentelemetry\\context_propagation.py:86\u001b[0m, in \u001b[0;36mwith_context_propagation.<locals>.wrapper\u001b[1;34m(cnx, *args, **kwargs)\u001b[0m\n\u001b[0;32m     83\u001b[0m     cnx\u001b[39m.\u001b[39mquery_attrs_append(value\u001b[39m=\u001b[39m(TRACEPARENT_HEADER_NAME, tp_header))\n\u001b[0;32m     85\u001b[0m \u001b[39mtry\u001b[39;00m:\n\u001b[1;32m---> 86\u001b[0m     result \u001b[39m=\u001b[39m method(cnx, \u001b[39m*\u001b[39;49margs, \u001b[39m*\u001b[39;49m\u001b[39m*\u001b[39;49mkwargs)\n\u001b[0;32m     87\u001b[0m \u001b[39mfinally\u001b[39;00m:\n\u001b[0;32m     88\u001b[0m     \u001b[39mif\u001b[39;00m tp_header \u001b[39mis\u001b[39;00m \u001b[39mnot\u001b[39;00m \u001b[39mNone\u001b[39;00m:\n",
      "File \u001b[1;32md:\\Users\\bsi80190\\AppData\\Local\\Programs\\Python\\Python311\\Lib\\site-packages\\mysql\\connector\\connection_cext.py:641\u001b[0m, in \u001b[0;36mCMySQLConnection.cmd_query\u001b[1;34m(self, query, raw, buffered, raw_as_string)\u001b[0m\n\u001b[0;32m    633\u001b[0m     \u001b[39mself\u001b[39m\u001b[39m.\u001b[39m_cmysql\u001b[39m.\u001b[39mquery(\n\u001b[0;32m    634\u001b[0m         query,\n\u001b[0;32m    635\u001b[0m         raw\u001b[39m=\u001b[39mraw,\n\u001b[1;32m   (...)\u001b[0m\n\u001b[0;32m    638\u001b[0m         query_attrs\u001b[39m=\u001b[39m\u001b[39mself\u001b[39m\u001b[39m.\u001b[39mquery_attrs,\n\u001b[0;32m    639\u001b[0m     )\n\u001b[0;32m    640\u001b[0m \u001b[39mexcept\u001b[39;00m MySQLInterfaceError \u001b[39mas\u001b[39;00m err:\n\u001b[1;32m--> 641\u001b[0m     \u001b[39mraise\u001b[39;00m get_mysql_exception(\n\u001b[0;32m    642\u001b[0m         err\u001b[39m.\u001b[39merrno, msg\u001b[39m=\u001b[39merr\u001b[39m.\u001b[39mmsg, sqlstate\u001b[39m=\u001b[39merr\u001b[39m.\u001b[39msqlstate\n\u001b[0;32m    643\u001b[0m     ) \u001b[39mfrom\u001b[39;00m \u001b[39merr\u001b[39;00m\n\u001b[0;32m    644\u001b[0m \u001b[39mexcept\u001b[39;00m \u001b[39mAttributeError\u001b[39;00m \u001b[39mas\u001b[39;00m err:\n\u001b[0;32m    645\u001b[0m     addr \u001b[39m=\u001b[39m (\n\u001b[0;32m    646\u001b[0m         \u001b[39mself\u001b[39m\u001b[39m.\u001b[39m_unix_socket \u001b[39mif\u001b[39;00m \u001b[39mself\u001b[39m\u001b[39m.\u001b[39m_unix_socket \u001b[39melse\u001b[39;00m \u001b[39mf\u001b[39m\u001b[39m\"\u001b[39m\u001b[39m{\u001b[39;00m\u001b[39mself\u001b[39m\u001b[39m.\u001b[39m_host\u001b[39m}\u001b[39;00m\u001b[39m:\u001b[39m\u001b[39m{\u001b[39;00m\u001b[39mself\u001b[39m\u001b[39m.\u001b[39m_port\u001b[39m}\u001b[39;00m\u001b[39m\"\u001b[39m\n\u001b[0;32m    647\u001b[0m     )\n",
      "\u001b[1;31mProgrammingError\u001b[0m: 1146 (42S02): Table 'hacktiv8.players' doesn't exist"
     ]
    }
   ],
   "source": [
    "# get cursor from connection\n",
    "cur = cnx.cursor()\n",
    "\n",
    "# Query to execute\n",
    "\n",
    "query = \"\"\"select *\n",
    "from hacktiv8.players\n",
    "limit 5\"\"\"\n",
    "\n",
    "#  execute this query\n",
    "cur.execute(query)\n",
    "\n",
    "# get rows\n",
    "rows  = cur.fetchall()"
   ]
  },
  {
   "cell_type": "code",
   "execution_count": 7,
   "metadata": {},
   "outputs": [
    {
     "name": "stdout",
     "output_type": "stream",
     "text": [
      "('Cincinnati Bearcats', 'Cincinnati', 'Ralph Abernathy', 'RB', 67.0, 161.0, 'JR', 'ATLANTA, GA', 'GA', 1)\n",
      "('Cincinnati Bearcats', 'Cincinnati', 'Mekale McKay', 'WR', 78.0, 195.0, 'SO', 'LOUISVILLE, KY', 'KY', 2)\n",
      "('Cincinnati Bearcats', 'Cincinnati', 'Trenier Orr', 'CB', 71.0, 177.0, 'SO', 'WINTER GARDEN, FL', 'FL', 3)\n",
      "('Cincinnati Bearcats', 'Cincinnati', 'Bennie Coney', 'QB', 75.0, 216.0, 'FR', 'PLANT CITY, FL', 'FL', 4)\n",
      "('Cincinnati Bearcats', 'Cincinnati', 'Johnny Holton', 'WR', 75.0, 190.0, 'JR', 'MIAMI, FL', 'FL', 5)\n"
     ]
    }
   ],
   "source": [
    "for r in rows:\n",
    "    print(r) "
   ]
  },
  {
   "cell_type": "markdown",
   "metadata": {},
   "source": [
    "# Materi"
   ]
  },
  {
   "cell_type": "markdown",
   "metadata": {},
   "source": [
    "Hapus database"
   ]
  },
  {
   "cell_type": "code",
   "execution_count": 8,
   "metadata": {},
   "outputs": [
    {
     "name": "stdout",
     "output_type": "stream",
     "text": [
      "Database 'ftds' tidak ditemukan.\n"
     ]
    }
   ],
   "source": [
    "import mysql.connector\n",
    "\n",
    "db = mysql.connector.connect(\n",
    "  host=\"localhost\",\n",
    "  user=\"root\",\n",
    "  passwd=\"fawaz2402\"\n",
    ")\n",
    "\n",
    "cursor = db.cursor()\n",
    "\n",
    "# Nama database yang akan dihapus\n",
    "database_name = \"ftds\"  # Ganti dengan nama database yang ingin Anda hapus\n",
    "\n",
    "# Mengecek apakah database tersebut ada sebelum dihapus\n",
    "cursor.execute(\"SHOW DATABASES\")\n",
    "databases = [database[0] for database in cursor]\n",
    "\n",
    "if database_name in databases:\n",
    "    # Menghapus database\n",
    "    cursor.execute(f\"DROP DATABASE {database_name}\")\n",
    "    print(f\"Database '{database_name}' berhasil dihapus.\")\n",
    "else:\n",
    "    print(f\"Database '{database_name}' tidak ditemukan.\")\n"
   ]
  },
  {
   "cell_type": "markdown",
   "metadata": {},
   "source": [
    "buat database FTDS"
   ]
  },
  {
   "cell_type": "code",
   "execution_count": 10,
   "metadata": {},
   "outputs": [
    {
     "name": "stdout",
     "output_type": "stream",
     "text": [
      "Database Successfully Created\n"
     ]
    }
   ],
   "source": [
    "import mysql.connector\n",
    "\n",
    "db = mysql.connector.connect(\n",
    "  host=\"localhost\",\n",
    "  user=\"root\",\n",
    "  passwd=\"fawaz2402\"\n",
    ")\n",
    "\n",
    "cursor = db.cursor()\n",
    "cursor.execute(\"CREATE DATABASE ftds\")\n",
    "\n",
    "print(\"Database Successfully Created\")"
   ]
  },
  {
   "cell_type": "markdown",
   "metadata": {},
   "source": [
    "Buat tabel student"
   ]
  },
  {
   "cell_type": "code",
   "execution_count": 11,
   "metadata": {},
   "outputs": [
    {
     "name": "stdout",
     "output_type": "stream",
     "text": [
      "Student Table Successfully Created\n"
     ]
    }
   ],
   "source": [
    "cursor = db.cursor()\n",
    "cursor.execute(\"USE ftds\")\n",
    "\n",
    "sql = \"\"\"CREATE TABLE student (\n",
    "  student_id INT AUTO_INCREMENT PRIMARY KEY,\n",
    "  name VARCHAR(255),\n",
    "  address Varchar(255)\n",
    ")\n",
    "\"\"\"\n",
    "cursor.execute(sql)\n",
    "\n",
    "print(\"Student Table Successfully Created\")"
   ]
  },
  {
   "cell_type": "markdown",
   "metadata": {},
   "source": [
    "insert data"
   ]
  },
  {
   "cell_type": "markdown",
   "metadata": {},
   "source": [
    "Memasukan beberapa data ke tabel"
   ]
  },
  {
   "cell_type": "code",
   "execution_count": 13,
   "metadata": {},
   "outputs": [
    {
     "name": "stdout",
     "output_type": "stream",
     "text": [
      "4 data added\n"
     ]
    }
   ],
   "source": [
    "cursor = db.cursor()\n",
    "cursor.execute(\"USE ftds\")\n",
    "\n",
    "sql = \"INSERT INTO student (name, address) VALUES (%s, %s)\"\n",
    "values = [\n",
    "  (\"Danu\", \"Jakarta\"),\n",
    "  (\"Fahmi\", \"Surabaya\"),\n",
    "  (\"Sardi\", \"Bandung\"),\n",
    "  (\"Hana\", \"Depok\")\n",
    "]\n",
    "\n",
    "for val in values:\n",
    "  cursor.execute(sql, val)\n",
    "  db.commit()\n",
    "\n",
    "print(\"{} data added\".format(len(values)))"
   ]
  },
  {
   "cell_type": "markdown",
   "metadata": {},
   "source": [
    "Mendapatkan data dari database"
   ]
  },
  {
   "cell_type": "code",
   "execution_count": 14,
   "metadata": {},
   "outputs": [
    {
     "name": "stdout",
     "output_type": "stream",
     "text": [
      "(1, 'Raka', 'Semarang')\n",
      "(2, 'Danu', 'Jakarta')\n",
      "(3, 'Fahmi', 'Surabaya')\n",
      "(4, 'Sardi', 'Bandung')\n",
      "(5, 'Hana', 'Depok')\n"
     ]
    }
   ],
   "source": [
    "import mysql.connector\n",
    "\n",
    "db = mysql.connector.connect(\n",
    "  host=\"localhost\",\n",
    "  user=\"root\",\n",
    "  passwd=\"fawaz2402\",\n",
    "  database=\"ftds\"\n",
    ")\n",
    "\n",
    "cursor = db.cursor()\n",
    "sql = \"SELECT * FROM student\"\n",
    "cursor.execute(sql)\n",
    "\n",
    "results = cursor.fetchall() #ada juga fetchone()\n",
    "# print(results) #jika dengan fetchone() langsung print\n",
    "\n",
    "for data in results:\n",
    "  print(data)"
   ]
  },
  {
   "cell_type": "markdown",
   "metadata": {},
   "source": [
    "Update data"
   ]
  },
  {
   "cell_type": "code",
   "execution_count": 15,
   "metadata": {},
   "outputs": [
    {
     "name": "stdout",
     "output_type": "stream",
     "text": [
      "1 data updated\n"
     ]
    }
   ],
   "source": [
    "cursor = db.cursor()\n",
    "sql = \"UPDATE student SET name=%s, address=%s WHERE student_id=%s\"\n",
    "val = (\"Rachman\", \"Lombok\", 1)\n",
    "cursor.execute(sql, val)\n",
    "\n",
    "db.commit()\n",
    "\n",
    "print(\"{} data updated\".format(cursor.rowcount))"
   ]
  },
  {
   "cell_type": "markdown",
   "metadata": {},
   "source": [
    "cek kembali data yang telah di update"
   ]
  },
  {
   "cell_type": "code",
   "execution_count": 18,
   "metadata": {},
   "outputs": [
    {
     "name": "stdout",
     "output_type": "stream",
     "text": [
      "(2, 'Danu', 'Jakarta')\n",
      "(3, 'Fahmi', 'Surabaya')\n",
      "(4, 'Sardi', 'Bandung')\n",
      "(5, 'Hana', 'Depok')\n"
     ]
    }
   ],
   "source": [
    "cursor = db.cursor()\n",
    "sql = \"SELECT * FROM student\"\n",
    "cursor.execute(sql)\n",
    "\n",
    "results = cursor.fetchall() #ada juga fetchone()\n",
    "# print(results) #jika dengan fetchone() langsung print\n",
    "\n",
    "for data in results:\n",
    "  print(data)"
   ]
  },
  {
   "cell_type": "markdown",
   "metadata": {},
   "source": [
    "delete data"
   ]
  },
  {
   "cell_type": "code",
   "execution_count": 17,
   "metadata": {},
   "outputs": [
    {
     "name": "stdout",
     "output_type": "stream",
     "text": [
      "1 data deleted\n"
     ]
    }
   ],
   "source": [
    "cursor = db.cursor()\n",
    "sql = \"DELETE FROM student WHERE student_id=%s\"\n",
    "\n",
    "val = (1, ) #delete student_id = 1\n",
    "cursor.execute(sql, val)\n",
    "\n",
    "db.commit()\n",
    "\n",
    "print(\"{} data deleted\".format(cursor.rowcount))"
   ]
  },
  {
   "cell_type": "code",
   "execution_count": 12,
   "metadata": {},
   "outputs": [
    {
     "name": "stdout",
     "output_type": "stream",
     "text": [
      "1 data added \n"
     ]
    }
   ],
   "source": [
    "cursor = db.cursor()\n",
    "cursor.execute(\"USE ftds\")\n",
    "\n",
    "#perintah untuk insert\n",
    "sql = \"INSERT INTO student (name, address) VALUES (%s, %s)\"\n",
    "val = (\"Raka\", \"Semarang\")\n",
    "cursor.execute(sql, val)\n",
    "\n",
    "db.commit()\n",
    "\n",
    "print(\"{} data added \".format(cursor.rowcount))"
   ]
  },
  {
   "cell_type": "markdown",
   "metadata": {},
   "source": [
    "# Latihan Part-1"
   ]
  },
  {
   "cell_type": "markdown",
   "metadata": {},
   "source": [
    "Terakhir, legkapi perintah berikut:"
   ]
  },
  {
   "cell_type": "code",
   "execution_count": 5,
   "metadata": {},
   "outputs": [
    {
     "name": "stdout",
     "output_type": "stream",
     "text": [
      "\n",
      "=== H8 Python MySQL Exercise ===\n",
      "1. Insert Data\n",
      "2. Show Data\n",
      "3. Update Data\n",
      "4. Delete Data\n",
      "5. Search Data\n",
      "0. Exit\n",
      "------------------\n"
     ]
    },
    {
     "name": "stdout",
     "output_type": "stream",
     "text": [
      "(7, 'Duta', 'Yogyakarta')\n",
      "\n",
      "=== H8 Python MySQL Exercise ===\n",
      "1. Insert Data\n",
      "2. Show Data\n",
      "3. Update Data\n",
      "4. Delete Data\n",
      "5. Search Data\n",
      "0. Exit\n",
      "------------------\n",
      "Terima kasih telah menggunakan!\n"
     ]
    }
   ],
   "source": [
    "import mysql.connector\n",
    "import os\n",
    "\n",
    "db = mysql.connector.connect(\n",
    "  host=\"localhost\",\n",
    "  user=\"root\",\n",
    "  passwd=\"fawaz2402\",\n",
    "  database=\"ftds\"\n",
    ")\n",
    "\n",
    "\n",
    "def insert_data(db):\n",
    "  #insert data dengan fungsi input nama dan alamat\n",
    "  cursor = db.cursor()\n",
    "  \n",
    "  nama = input('Masukkan nama yang ingin di input : ')\n",
    "  alamat = input('Masukkan alamat yang ingin di input : ')\n",
    "\n",
    "  sql = \"INSERT INTO student (name, address) VALUES (%s, %s)\"\n",
    "  \n",
    "  val = (nama, alamat)\n",
    "  cursor.execute(sql, val)\n",
    "\n",
    "  db.commit()\n",
    "  print(f'Data ({nama}, {alamat})  sudah masuk kedalam db')\n",
    "  \n",
    "\n",
    "def show_data(db):\n",
    "  #show data dengan fetchall\n",
    "  cursor = db.cursor()\n",
    "  sql = \"SELECT * FROM student\"\n",
    "  cursor.execute(sql)\n",
    "\n",
    "  results = cursor.fetchall() #ada juga fetchone()\n",
    "  # print(results) #jika dengan fetchone() langsung print\n",
    "\n",
    "  for data in results:\n",
    "    print(data)\n",
    "\n",
    "def update_data(db):\n",
    "  #update data\n",
    "  cursor = db.cursor()\n",
    "  sql = \"UPDATE student SET name=%s, address=%s WHERE student_id=%s\"\n",
    "\n",
    "  student_id = int(input('Masukkan student_id yang datanya ingin di rubah : '))\n",
    "  name = input(f'Masukkan nama baru untuk student_id {student_id} : ')\n",
    "  address = input(f'Masukkan alamat baru untuk student_id {student_id} : ')\n",
    "\n",
    "  val = (name, address, student_id)\n",
    "  cursor.execute(sql, val)\n",
    "\n",
    "  db.commit()\n",
    "\n",
    "  print(f'Data student_id : {student_id} telah dirubah menjadi ({name}, {address}) dan sudah masuk kedalam db')\n",
    "\n",
    "\n",
    "\n",
    "def delete_data(db):\n",
    "  #delete data berdasarkan id\n",
    "  cursor = db.cursor()\n",
    "  sql = \"DELETE FROM student WHERE student_id=%s\"\n",
    "  student_id = int(input('Masukkan student_id yang datanya ingin di hapus : '))\n",
    "\n",
    "  val = (student_id, ) #delete student_id = 1\n",
    "  cursor.execute(sql, val)\n",
    "\n",
    "  db.commit()\n",
    "  print(f'Data student_id {student_id} berhasil di hapus dari DB')\n",
    "\n",
    "\n",
    "def search_data(db):\n",
    "  #search data berdasarkan nama dan alamat, gunakan LIKE\n",
    "  cursor = db.cursor()\n",
    "\n",
    "  name = input('Masukkan nama yang ingin di cari : ')\n",
    "  address = input(f'Masukkan alamat dari nama {name} : ')\n",
    "\n",
    "  name = name + '%'\n",
    "  address = address + '%'\n",
    "\n",
    "  sql = \"\"\"\n",
    "    SELECT * FROM student\n",
    "    WHERE name LIKE %s AND address LIKE %s\n",
    "  \"\"\"\n",
    "  val = (name,address)\n",
    "  cursor.execute(sql, val)\n",
    "  results = cursor.fetchall()\n",
    "\n",
    "  for data in results:\n",
    "    print(data)\n",
    "\n",
    "# Fungsi utamanya\n",
    "def show_menu(db):\n",
    "  print(\"\\n=== H8 Python MySQL Exercise ===\")\n",
    "  print(\"1. Insert Data\")\n",
    "  print(\"2. Show Data\")\n",
    "  print(\"3. Update Data\")\n",
    "  print(\"4. Delete Data\")\n",
    "  print(\"5. Search Data\")\n",
    "  print(\"0. Exit\")\n",
    "  print(\"------------------\")\n",
    "  menu = input(\"Masukkan nomor menu :\")\n",
    "\n",
    "  #clear screen\n",
    "  os.system(\"clear\")\n",
    "\n",
    "  if menu == \"1\":\n",
    "    insert_data(db)\n",
    "    return 1\n",
    "  elif menu == \"2\":\n",
    "    show_data(db)\n",
    "    return 1\n",
    "  elif menu == \"3\":\n",
    "    update_data(db)\n",
    "    return 1\n",
    "  elif menu == \"4\":\n",
    "    delete_data(db)\n",
    "    return 1\n",
    "  elif menu == \"5\":\n",
    "    search_data(db)\n",
    "    return 1\n",
    "  elif menu == \"0\":\n",
    "    print(\"Terima kasih telah menggunakan!\")\n",
    "    return 0\n",
    "  else:\n",
    "    print(\"Wrong Input\")\n",
    "    return 1\n",
    "\n",
    "if __name__ == \"__main__\":\n",
    "  index = 1\n",
    "  while index:\n",
    "    index = show_menu(db)"
   ]
  }
 ],
 "metadata": {
  "kernelspec": {
   "display_name": "Python 3",
   "language": "python",
   "name": "python3"
  },
  "language_info": {
   "codemirror_mode": {
    "name": "ipython",
    "version": 3
   },
   "file_extension": ".py",
   "mimetype": "text/x-python",
   "name": "python",
   "nbconvert_exporter": "python",
   "pygments_lexer": "ipython3",
   "version": "3.11.5"
  },
  "orig_nbformat": 4
 },
 "nbformat": 4,
 "nbformat_minor": 2
}
