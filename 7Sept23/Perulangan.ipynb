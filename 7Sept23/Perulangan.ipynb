{
  "cells": [
    {
      "cell_type": "markdown",
      "metadata": {
        "id": "LDgsXCqsu0qi"
      },
      "source": [
        "## exercises"
      ]
    },
    {
      "cell_type": "markdown",
      "metadata": {
        "id": "BIpeq877u0qj"
      },
      "source": [
        "kerjakan exercise dibawah ini, dan dikumpulkan via google classroom. Format pengumpulan adalah file jupyter notebook beserta **penjelasan code dan outputnya**"
      ]
    },
    {
      "cell_type": "markdown",
      "metadata": {
        "id": "6O7fE-xuu0qj"
      },
      "source": [
        "1. buatlah conditional statement untuk status zona berdasarkan kriteria di bawah ini. dan tampilkan data sesuai dengan format yang diminta"
      ]
    },
    {
      "cell_type": "markdown",
      "metadata": {
        "id": "LYZ1NBFHu0qj"
      },
      "source": [
        "| Kasus Baru | Kasus Sembuh | Zona |\n",
        "| --- | --- | --- |\n",
        "| >=100 | >=100 | Kuning |\n",
        "| <100 | >=100 | Hijau |\n",
        "| >=100 | <100 | Merah |\n",
        "| <100 | <100 | Orange |"
      ]
    },
    {
      "cell_type": "code",
      "execution_count": 1,
      "metadata": {
        "id": "CzTV1wEbu0qj",
        "colab": {
          "base_uri": "https://localhost:8080/"
        },
        "outputId": "156ab2d1-d7b9-4302-d4cd-78cad7911839"
      },
      "outputs": [
        {
          "output_type": "stream",
          "name": "stdout",
          "text": [
            "Status Provinsi DKI Jakarta Adalah Zona Orange\n"
          ]
        }
      ],
      "source": [
        "#menampilkan status provinsi jakarta sesuai kriteria\n",
        "prov=\"DKI Jakarta\"\n",
        "kasus_baru=50\n",
        "kasus_sembuh=80\n",
        "## variabel zona diisi kosong terlebih dulu sebelum diisi dengan nilai sesuai kriteria\n",
        "zona=''\n",
        "if(kasus_baru >=100 and kasus_sembuh >= 100):\n",
        "    zona='Kuning'\n",
        "elif(kasus_baru<100 and kasus_sembuh >= 100):\n",
        "    zona='Hijau'\n",
        "elif(kasus_baru>=100 and kasus_sembuh < 100):\n",
        "    zona='Merah'\n",
        "else:\n",
        "    zona='Orange'\n",
        "print('Status Provinsi ' + prov + ' Adalah Zona ' + zona)"
      ]
    },
    {
      "cell_type": "markdown",
      "metadata": {
        "id": "KtfLI9-_u0qj"
      },
      "source": [
        "output yang diminta:\n",
        "![output_21.PNG](data:image/png;base64,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)"
      ]
    },
    {
      "cell_type": "markdown",
      "metadata": {
        "id": "_hbzK4NGu0qj"
      },
      "source": [
        "2. buatlah perulangan untuk menampilkan angka ganjil dari 1-10 (bisa pakai operasi mod (%) atau mengubah statement pengubahan kondisinya"
      ]
    },
    {
      "cell_type": "code",
      "execution_count": 4,
      "metadata": {
        "id": "5hcNO1GTu0qj",
        "colab": {
          "base_uri": "https://localhost:8080/"
        },
        "outputId": "12e8fc3f-17fa-4f32-8f4e-49c4cf6ad1a9"
      },
      "outputs": [
        {
          "output_type": "stream",
          "name": "stdout",
          "text": [
            "1\n",
            "3\n",
            "5\n",
            "7\n",
            "9\n"
          ]
        }
      ],
      "source": [
        "#perulangan untuk mencari bilangan ganjil dari 1-10\n",
        "i=1\n",
        "while i < 10:\n",
        "    if(i % 2 == 1):\n",
        "      print(i)\n",
        "    i+=1"
      ]
    },
    {
      "cell_type": "markdown",
      "metadata": {
        "id": "MT6ocBXmu0qj"
      },
      "source": [
        "output yang diminta:\n",
        "![output_141.PNG](data:image/png;base64,iVBORw0KGgoAAAANSUhEUgAAAHYAAACICAYAAAAyPx94AAAAAXNSR0IArs4c6QAAAARnQU1BAACxjwv8YQUAAAAJcEhZcwAAFiUAABYlAUlSJPAAAAT5SURBVHhe7d3PK3xfHMdx/4CNxZTVrCQLSZJigYjFlChbYkNJSpSILBQSpSFJlAV2NMrGjpLSRMkC+RFFIoma/MiP96f36Y6+X9+P7+qc96l3r0fd4s7snt17z8w9c24KgUoIqxTCKoWwSiGsUgirFMIqhbBKIaxSCKsUwiolGvbp6Ynm5+cpOzubKisr6f7+PngFbBMJywFHR0cpHA5TSkqK2RDWLedhv76+aGxszMTMz8+npaUlKisrQ1jHRI7YeDxO0WiUEomEiclREdYt8cETwspAWKUQVimEVQphlUJYpRBWKZGwW1tb3984/W3Lycmho6Oj4N1gA8IqJX4qBhkIqxTCKoWwSiGsUgirFMIqhbBKIaxSCKsUwiqFsEqJhP38/KTt7W1qbGyktLQ088V/cXExTU1NmZmLYJ9IWL5zw3dwft7V4a21tZWen5+Dd4ItImFPTk5oYGCAzs7OzNHLG8eORCK4ZeeI12vs5OQk5eXlmfBgl5ew7+/v5ppbUFBAw8PD5n+wSywsX0ebm5u/r62hUIimp6fp9fU1eAfY5C0sb6mpqebai8GTfd5OxcfHx1RfX28Cz87OBq+ALV4HT9fX11RSUmKOZBy1dnkNe3d3R+Xl5dTS0kIvLy/BXrDB26n48vKSurq6zCAqFosFr4AtImEXFhb+NWhKbjx4GhkZwccdB7yEzczMpLa2Ntrd3TXfQoF9Xq+x4A7CKoWwSiGsUgirFMIqhbBKIaxSCKsUwiqFsEohrFIiYf9vXjGmn7qBsEqJhuXbdyADYZVCWKW8XGN5Sgw/8GFiYgILZTriffBUVFRkXge7RML+xJPXTk9PqampycTt6+ujj4+P4FWwwUvYpMPDQ/PULEwYt89r2L29PcrIyKD29nZ6e3sL9oINXsJyxM3NTaqoqDADqfX19eAVsEUk7G8LUXNUHhljwrh9XsLm5uZSb2+vWbqAn30H9nm9xoI7CKsUwiqFsEohrFIIqxTCKoWwSiGsUgirFMIqhbBKOQ+bfBDwP28C/Nx42gymx9iFsEp5PRXf3t5SVVUVpsY44C0s34edmZmh9PR0M5sC7PIW9urqikpLS80KbViM2j4vYfloHR8fN0frzs5OsBds8hL2/PzcPA+go6MDR6sj4mF5Yvjg4CCFw2GKx+PBXrBNPGzy5x44Wt0SDcvTTHt6eigrK4v29/eDveCCaFiOyVE5LuYSuyUWlk+7fPrF0SpDLCx/rOGPNzhaZYgPnkAGwiqFsEohrFIIqxTCKoWwSiGsUgirFMIqhbBKIaxSYmH56c5DQ0PmEaM8l5hXjuF5T4lEIngH2CQSlpf94cW6fk4U540f44249jkPy3OceBHMtLQ0mpub+4748PBA/f39Ju7y8rLZB/Y4D5t8wP7f5g9z3JqaGjx83wHnYS8uLqiwsJC6u7v/s3Qt/8/7+bc9WJDaLudhHx8fqba21kw3XV1dNQtk8oTxm5sbikajZjCFsPaJDJ5isZhZEPPnwCm5Iax9ImH5CN3Y2KDq6moTmDf+e2VlhRoaGigSiZjrLdgjEvY3ycETFqK2z1tYPooXFxcpFArR2tpasBdsEQ/LP3A+ODigzs5Oc0rGFxRuiIT9bYXxuro68zkX7BMPy98R85cVvA8Tx93xOngCdxBWKYRVCmGVQlilEFYphFUKYZVCWKUQVimEVQphVSL6A24fREmuImFcAAAAAElFTkSuQmCC)"
      ]
    },
    {
      "cell_type": "markdown",
      "metadata": {
        "id": "pSU4YPC3u0qj"
      },
      "source": [
        "3. buatlah perulangan untuk menghitung jumlah dari kuadrat 10 angka bilangan berikutnya dari variabel start (10+11+12+...)"
      ]
    },
    {
      "cell_type": "code",
      "execution_count": 5,
      "metadata": {
        "id": "Wj4fD7Xhu0qj",
        "colab": {
          "base_uri": "https://localhost:8080/"
        },
        "outputId": "77e31527-1cce-405f-9006-476e2f695518"
      },
      "outputs": [
        {
          "output_type": "stream",
          "name": "stdout",
          "text": [
            "Jumlah kuadrat: 2185\n"
          ]
        }
      ],
      "source": [
        "#perulangan untuk menjumlah kuadrat\n",
        "start=10\n",
        "sum_number=0\n",
        "while start < 20:\n",
        "    sum_number += start**2\n",
        "    start += 1\n",
        "print(\"Jumlah kuadrat: {}\".format(sum_number))"
      ]
    },
    {
      "cell_type": "markdown",
      "metadata": {
        "id": "xkJxkyWBu0qj"
      },
      "source": [
        "output yang diminta:\n",
        "![output_25.PNG](data:image/png;base64,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)"
      ]
    },
    {
      "cell_type": "markdown",
      "metadata": {
        "id": "OFxm2f6Xu0qj"
      },
      "source": [
        "4. buatkan suatu list dengan data seperti di bawah ini"
      ]
    },
    {
      "cell_type": "markdown",
      "metadata": {
        "id": "ABPVWBJau0qj"
      },
      "source": [
        "| Provinsi Zona Merah |\n",
        "| --- |\n",
        "| DKI Jakarta |\n",
        "| Jawa Timur |\n",
        "| Jawa Barat |\n",
        "| Banten |\n",
        "| Sulawesi Selatan |\n",
        "| Papua |"
      ]
    },
    {
      "cell_type": "code",
      "execution_count": 20,
      "metadata": {
        "id": "fNF09vKPu0qk",
        "colab": {
          "base_uri": "https://localhost:8080/"
        },
        "outputId": "72d56ead-78a0-4488-b323-8c9303405328"
      },
      "outputs": [
        {
          "output_type": "stream",
          "name": "stdout",
          "text": [
            "Provinsi Zona Merah :\n",
            "DKI Jakarta\n",
            "Jawa Timur\n",
            "Jawa Barat\n",
            "Banten\n",
            "Sulawesi Selatan\n",
            "Papua\n"
          ]
        }
      ],
      "source": [
        "#membuat list\n",
        "zona_merah = ['DKI Jakarta','Jawa Timur','Jawa Barat','Banten','Sulawesi Selatan','Papua']\n",
        "print('Provinsi Zona Merah :')\n",
        "for i in zona_merah:\n",
        "  print(i)"
      ]
    },
    {
      "cell_type": "markdown",
      "metadata": {
        "id": "0tOE3fr9u0qk"
      },
      "source": [
        "5. lakukan manipulasi terhadap list zona_merah tersebut hingga isi array menjadi seperti berikut (menggunakan statement insert, append, remove)"
      ]
    },
    {
      "cell_type": "markdown",
      "metadata": {
        "id": "hsWhqQXXu0qk"
      },
      "source": [
        "| Provinsi Zona Merah |\n",
        "| --- |\n",
        "| Jawa Timur |\n",
        "| Banten |\n",
        "| Kalimantan Selatan |\n",
        "| Sulawesi Selatan |\n",
        "| Papua |\n",
        "| Sumatera Selatan |"
      ]
    },
    {
      "cell_type": "code",
      "execution_count": 21,
      "metadata": {
        "id": "X13LTRFGu0qk",
        "colab": {
          "base_uri": "https://localhost:8080/"
        },
        "outputId": "ae2cbfb8-e5c1-4fa1-cf48-026ba08386b0"
      },
      "outputs": [
        {
          "output_type": "stream",
          "name": "stdout",
          "text": [
            "Provinsi Zona Merah :\n",
            "Jawa Timur\n",
            "Banten\n",
            "Kalimantan Selatan\n",
            "Sulawesi Selatan\n",
            "Papua\n",
            "Sumatera Selatan\n"
          ]
        }
      ],
      "source": [
        "#manipulasi list\n",
        "zona_merah.remove('DKI Jakarta')\n",
        "zona_merah.remove('Jawa Barat')\n",
        "zona_merah.insert(2,'Kalimantan Selatan')\n",
        "zona_merah.append('Sumatera Selatan')\n",
        "print('Provinsi Zona Merah :')\n",
        "for i in zona_merah:\n",
        "  print(i)"
      ]
    },
    {
      "cell_type": "markdown",
      "metadata": {
        "id": "gTCaC_Qfu0qk"
      },
      "source": [
        "6. dari list zona_merah yang sudah diupdate, tampilkan elemen dengan index 2-4"
      ]
    },
    {
      "cell_type": "code",
      "execution_count": 26,
      "metadata": {
        "id": "XznIYwp0u0qk",
        "colab": {
          "base_uri": "https://localhost:8080/"
        },
        "outputId": "8dc8393c-f561-46d6-e04d-40c43b15c880"
      },
      "outputs": [
        {
          "output_type": "stream",
          "name": "stdout",
          "text": [
            "Kalimantan Selatan\n",
            "Sulawesi Selatan\n",
            "Papua\n"
          ]
        }
      ],
      "source": [
        "zona_merah_24=zona_merah[2:5]\n",
        "for i in zona_merah_24:\n",
        "    print(i)"
      ]
    },
    {
      "cell_type": "markdown",
      "metadata": {
        "id": "DOyX9HLpu0qk"
      },
      "source": [
        "output yang diminta:\n",
        "![output_23.PNG](data:image/png;base64,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)"
      ]
    },
    {
      "cell_type": "markdown",
      "metadata": {
        "id": "ltpJQdRku0qk"
      },
      "source": [
        "7. diberikan suatu list dengan isi berikut, tampilkan kuadrat dari masing-masing elemen"
      ]
    },
    {
      "cell_type": "code",
      "execution_count": 27,
      "metadata": {
        "id": "1uM-rcfIu0qk",
        "colab": {
          "base_uri": "https://localhost:8080/"
        },
        "outputId": "b7817e53-2640-4487-986a-903a85832b64"
      },
      "outputs": [
        {
          "output_type": "stream",
          "name": "stdout",
          "text": [
            "49\n",
            "324\n",
            "81\n",
            "576\n",
            "4\n",
            "9\n"
          ]
        }
      ],
      "source": [
        "#menampilkan kuadrat dari masing-masing elemen\n",
        "list_angka=[7,18,9,24,2,3]\n",
        "for i in list_angka:\n",
        "    print(i**2)"
      ]
    },
    {
      "cell_type": "markdown",
      "metadata": {
        "id": "iSNxhFsUu0qk"
      },
      "source": [
        "output yang diminta:\n",
        "![output_24.PNG](data:image/png;base64,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)"
      ]
    },
    {
      "cell_type": "markdown",
      "metadata": {
        "id": "pee7hqgAu0qk"
      },
      "source": [
        "8. lengkapi baris kode dibawah dengan perulangan untuk menyimpan bilangan satuan (hint: bilangan yg kurang dari 10) saja dari list yang diberikan. dan menampilkannya ke layar sebagai list yang berbeda"
      ]
    },
    {
      "cell_type": "code",
      "execution_count": 28,
      "metadata": {
        "id": "xjqOS1KUu0qk",
        "colab": {
          "base_uri": "https://localhost:8080/"
        },
        "outputId": "4eb0bbfd-d435-453d-a310-f4388b8213e3"
      },
      "outputs": [
        {
          "output_type": "stream",
          "name": "stdout",
          "text": [
            "[3, 7, 9]\n"
          ]
        }
      ],
      "source": [
        "#mengecek apakah elemen dari array satuan atau tidak\n",
        "list_angka=[50,3,7,888,25,9,101,28]\n",
        "#hasil akan ditampung di list_result ini\n",
        "list_result=[]\n",
        "for i in list_angka:\n",
        "    if i<10:\n",
        "        list_result.append(i)\n",
        "    else:\n",
        "        #syntax continue digunakan untuk melanjutkan perulangan\n",
        "        continue\n",
        "print(list_result)"
      ]
    },
    {
      "cell_type": "markdown",
      "metadata": {
        "id": "WiFfvj4Pu0qk"
      },
      "source": [
        "output yang diminta:\n",
        "![output_28.PNG](data:image/png;base64,iVBORw0KGgoAAAANSUhEUgAAAK8AAAAxCAYAAACs/vlGAAAAAXNSR0IArs4c6QAAAARnQU1BAACxjwv8YQUAAAAJcEhZcwAAFiUAABYlAUlSJPAAAAQlSURBVHhe7ZrNK3RRHMfnH7CxUFaWVpKFFFkoIUoUCwtSlLJQZGMhRZGdsJBYCLFAlI0dUjaUUpLyUuQtibzn5ff0Pc+5mmdezDV35t45Pd9PnYwz986czv3c3/2d3xmfEGIolJcYC+UlxkJ5ibFQXmIslJcYC+UlxkJ5ibFQXmIslJcYC+UlxkJ5ibFQXmIslJcYS0zlnZqaEp/P909DH4kP3d3d//V8U16DobwxBBOXmZkp+/v7uic0Nzc3MjQ0JDk5OWrC09LSpKGhQXZ2duTr60sfFV+en5+lqakp6OIHto2NDX1G/Lm+vpa+vj5JT09X352VlSUDAwPy+PiojwgPxolzKG+U2JU3VMRAg8RuyZJo8h4eHkpRUVHIMTQ3N0cUmPI6xK68w8PDsry8/H1B8Hd0dFSSkpKU2F5jiV1eXi5XV1e6N358fHxIZ2enJCcny/j4+Pe83N7eSldXl5Jyfn5e9YWD8jrErryhOD09lfz8fOnt7dU93rGysqJuJLdEQLpQWFgoLS0t8vr6qnv/AoErKytV9H15edG9wVBeh0QrrxVhkAPv7e3pXm+4v7+Xuro6JQzG5QYnJyeSm5srHR0dKgr7g//RX1xcrNYK4aC8DvmNvNZkW620tFQODg70u96xuLioom6kx3Qsubu7k6qqKpXzLy0tydvbm1q4XlxcyODgoFrAUd5gEkZetLy8PNne3tZHuI/1iK6urnYt6lpYN03gnFiN8gaTEGkDIs/k5KSKMMj9zs/P9TvugvFDIIjkNoi0q6urUlFRocaAhtcLCwtSX18vZWVlP95QlNch0cprMTIyoi4ALoTboKqA6oIXUfcnrKdBa2urSifCQXkd4lTeiYkJFXE2Nzd1jzsg6lmlOlQaEgWMa3p6WlJSUlRp8Scor0Oilffh4UFJk52dHTby4ULOzMxIamqqtLW12dp1ssvZ2ZkUFBSoKgOqDZG4vLxU48zIyJD19XXdGztQZ97d3ZX29nZ1Q3GTIjSuy4tFBxYfmOjAhgVbuHPxyMSj0zoWq/JYgJsCW7C/ibpbW1vqJsI4UCVAzu4US77AVltbq+rAkaC8DolGXkhTUlIiY2NjEaMeasD4fJzX39+ve51xdHSk6st2oy54f3+Xnp4eNQ6ci61dp/jLi980YMMCffguO1Beh9iR1wlPT0/S2NioLtLs7Kzu9Ya1tTU1jkhVALegvA6Jp7zI+VBOQyEf6cXx8bF+x10+Pz/VZkpNTY2SBSkHUg+vobwOwcRhAv1bLCbT/3MhL3a/vBAmMOWxm4/GC/6eN4bEU15sYKDK4FXEBZAX+Tna3Nxc0I9o3IbyEmIolJcYC+UlxkJ5ibFQXmIslJcYC+UlxkJ5ibFQXmIslJcYC+UlxkJ5ibFQXmIslJcYC+UlxkJ5iaGI/AEo+531Qz3IIgAAAABJRU5ErkJggg==)"
      ]
    },
    {
      "cell_type": "markdown",
      "metadata": {
        "id": "y1jNJvp6u0qk"
      },
      "source": [
        "9. dari list zona_merah yang ada di soal nomor 2, lengkapi kode berikut untuk menampilkan isi list tersebut sebanyak dua kali"
      ]
    },
    {
      "cell_type": "code",
      "execution_count": 29,
      "metadata": {
        "id": "lkm-PUIku0ql",
        "colab": {
          "base_uri": "https://localhost:8080/"
        },
        "outputId": "e68b151e-8505-4796-fd31-ccdc136cd1a4"
      },
      "outputs": [
        {
          "output_type": "stream",
          "name": "stdout",
          "text": [
            "['Jawa Timur', 'Banten', 'Kalimantan Selatan', 'Sulawesi Selatan', 'Papua', 'Sumatera Selatan']\n",
            "['Jawa Timur', 'Banten', 'Kalimantan Selatan', 'Sulawesi Selatan', 'Papua', 'Sumatera Selatan']\n"
          ]
        }
      ],
      "source": [
        "#menampilkan list zona merah sebanyak dua kali\n",
        "i=0\n",
        "while i < 2:\n",
        "    print(zona_merah)\n",
        "    i += 1"
      ]
    },
    {
      "cell_type": "markdown",
      "metadata": {
        "id": "Z3XGdgpIu0ql"
      },
      "source": [
        "output yang diminta:\n",
        "![output_26.PNG](data:image/png;base64,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)"
      ]
    },
    {
      "cell_type": "markdown",
      "metadata": {
        "id": "Zoff0A0pu0ql"
      },
      "source": [
        "10. diberikan list of tuples yang berisi provinsi, jumlah kasus kemarin, jumlah kasus hari ini, tampilkan persentase penambahan untuk masing-masing elemen. persentase penambahan dihitung sebagai (jumlah kasus hari ini - jumlah kasus kemarin)/jumlah kasus kemarin"
      ]
    },
    {
      "cell_type": "code",
      "execution_count": 36,
      "metadata": {
        "id": "vbSvxkCSu0ql",
        "colab": {
          "base_uri": "https://localhost:8080/"
        },
        "outputId": "a616340a-5dfc-497d-f0dd-4f77672637b0"
      },
      "outputs": [
        {
          "output_type": "stream",
          "name": "stdout",
          "text": [
            "Jawa Timur : 0.03563777994157741\n",
            "Banten : 0.08040770101925254\n",
            "Kalimantan Selatan : 0.06604747162022703\n",
            "Sulawesi Selatan : 0.023312883435582823\n"
          ]
        }
      ],
      "source": [
        "zona_merah_tuples=[('Jawa Timur',5135,5318),('Banten',883,954),('Kalimantan Selatan',969,1033),('Sulawesi Selatan',1630,1668)]\n",
        "for i in zona_merah_tuples:\n",
        "    output = (i[2]-i[1])/i[1]\n",
        "    print(i[0] + ' : ' + str(output))"
      ]
    },
    {
      "cell_type": "markdown",
      "metadata": {
        "id": "2zhDu5Vwu0ql"
      },
      "source": [
        "output yang diinginkan:\n",
        "![output_27_1.PNG](data:image/png;base64,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)"
      ]
    },
    {
      "cell_type": "code",
      "source": [],
      "metadata": {
        "id": "55HVvbcGxV_u"
      },
      "execution_count": null,
      "outputs": []
    }
  ],
  "metadata": {
    "kernelspec": {
      "display_name": "Python 3",
      "language": "python",
      "name": "python3"
    },
    "language_info": {
      "codemirror_mode": {
        "name": "ipython",
        "version": 3
      },
      "file_extension": ".py",
      "mimetype": "text/x-python",
      "name": "python",
      "nbconvert_exporter": "python",
      "pygments_lexer": "ipython3",
      "version": "3.7.6"
    },
    "colab": {
      "provenance": []
    }
  },
  "nbformat": 4,
  "nbformat_minor": 0
}