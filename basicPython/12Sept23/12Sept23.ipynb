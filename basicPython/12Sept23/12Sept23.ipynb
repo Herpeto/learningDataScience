{
 "cells": [
  {
   "cell_type": "code",
   "execution_count": 2,
   "id": "8da48040-6583-4785-bd8d-7e43782adc73",
   "metadata": {
    "tags": []
   },
   "outputs": [
    {
     "name": "stdout",
     "output_type": "stream",
     "text": [
      "['ayam', 'eskrim', 'esteh']\n",
      "esteh\n",
      "['ayam', 'eskrim', 'esteh', 'esdoger']\n",
      "['eskrim', 'esteh', 'esdoger']\n"
     ]
    }
   ],
   "source": [
    "testList = ['ayam','eskrim','esteh']\n",
    "print(testList)\n",
    "print(testList[2])\n",
    "testList.append('esdoger')\n",
    "print(testList)\n",
    "testList.remove('ayam')\n",
    "print(testList)"
   ]
  },
  {
   "cell_type": "code",
   "execution_count": 13,
   "id": "55275ea9-1a69-491c-99d9-c0968eae5540",
   "metadata": {
    "tags": []
   },
   "outputs": [
    {
     "name": "stdout",
     "output_type": "stream",
     "text": [
      "{'menu1': 'ayam', 'menu2': 'eskrim', 'menu3': 'esteh'}\n",
      "ayam\n",
      "{'menu1': 'ayam', 'menu2': 'eskrim', 'menu3': 'esteh', 'menu4': 'esdoger'}\n",
      "esdoger\n",
      "{'menu1': 'ayam', 'menu2': 'eskrim', 'menu3': 'esteh', 'menu4': 'esdoger', 'menu5': 'espodeng'}\n",
      "{'menu1': 'ayam', 'menu2': 'eskrim', 'menu3': 'esteh', 'menu4': 'esdoger'}\n"
     ]
    }
   ],
   "source": [
    "testDict = {\n",
    "    'menu1':'ayam',\n",
    "    'menu2':'eskrim',\n",
    "    'menu3':'esteh'\n",
    "}\n",
    "print(testDict)\n",
    "print(testDict['menu1'])\n",
    "testDict['menu4']='esdoger'\n",
    "print(testDict)\n",
    "print(testDict['menu4'])\n",
    "testDict.update({'menu5':'espodeng'})\n",
    "print(testDict)\n",
    "testDict.pop('menu5')\n",
    "print(testDict)"
   ]
  },
  {
   "cell_type": "code",
   "execution_count": 17,
   "id": "68c84196-6de1-4648-b5ba-499b6dbdfbe0",
   "metadata": {
    "tags": []
   },
   "outputs": [
    {
     "name": "stdout",
     "output_type": "stream",
     "text": [
      "Enter the first number:  2\n",
      "Enter the second number:  5\n"
     ]
    },
    {
     "name": "stdout",
     "output_type": "stream",
     "text": [
      "Yang lebih besar adalah : 5.0\n"
     ]
    }
   ],
   "source": [
    "num1 = float(input(\"Enter the first number: \"))\n",
    "num2 = float(input(\"Enter the second number: \"))\n",
    "\n",
    "if(num1 > num2):\n",
    "    print('Yang lebih besar adalah : ' + str(num1))\n",
    "elif(num2>num1):\n",
    "    print('Yang lebih besar adalah : ' + str(num2))\n",
    "else:\n",
    "    print('Nilai keduanya sama besar')"
   ]
  },
  {
   "cell_type": "code",
   "execution_count": 23,
   "id": "88840689-923f-4d68-8f98-1fd7a6fd99d8",
   "metadata": {
    "tags": []
   },
   "outputs": [
    {
     "name": "stdout",
     "output_type": "stream",
     "text": [
      "Enter a year:  2100\n"
     ]
    },
    {
     "name": "stdout",
     "output_type": "stream",
     "text": [
      "2100 bukan tahun kabisat\n"
     ]
    }
   ],
   "source": [
    "year = int(input(\"Enter a year: \"))\n",
    "if (year % 4 == 0 and year % 100 != 0) or (year % 400 == 0):\n",
    "    print(f'{year} adalah tahun kabisat')\n",
    "else:\n",
    "    print(f'{year} bukan tahun kabisat')\n",
    "    "
   ]
  },
  {
   "cell_type": "code",
   "execution_count": 26,
   "id": "9ff51094-06ed-44e9-acdb-cfbbc5095b59",
   "metadata": {
    "tags": []
   },
   "outputs": [
    {
     "name": "stdout",
     "output_type": "stream",
     "text": [
      "2450\n"
     ]
    }
   ],
   "source": [
    "total = 0\n",
    "num = 2\n",
    "while (num < 100):\n",
    "    if(num % 2 == 0):\n",
    "        total += num\n",
    "    num += 1\n",
    "\n",
    "print(total)"
   ]
  },
  {
   "cell_type": "code",
   "execution_count": 4,
   "id": "65066efa-7ee9-47b0-b3d9-b3c58bd4dadb",
   "metadata": {
    "tags": []
   },
   "outputs": [
    {
     "name": "stdout",
     "output_type": "stream",
     "text": [
      "Masukkan password :  ayam\n"
     ]
    },
    {
     "name": "stdout",
     "output_type": "stream",
     "text": [
      "Yang boneng?\n"
     ]
    },
    {
     "name": "stdout",
     "output_type": "stream",
     "text": [
      "Masukkan password :  eskrim\n"
     ]
    },
    {
     "name": "stdout",
     "output_type": "stream",
     "text": [
      "Yang boneng?\n"
     ]
    },
    {
     "name": "stdout",
     "output_type": "stream",
     "text": [
      "Masukkan password :  secret\n"
     ]
    },
    {
     "name": "stdout",
     "output_type": "stream",
     "text": [
      "Silahkan masuk\n"
     ]
    }
   ],
   "source": [
    "password = ''\n",
    "while (password != 'secret'):\n",
    "    password = input('Masukkan password : ')\n",
    "    if(password == 'secret'):\n",
    "        print('Silahkan masuk')\n",
    "        break\n",
    "    else:\n",
    "        print('Yang boneng?')"
   ]
  },
  {
   "cell_type": "code",
   "execution_count": 3,
   "id": "6bf6c152-f784-47d1-9b8f-6ba2394e0116",
   "metadata": {
    "tags": []
   },
   "outputs": [
    {
     "name": "stdout",
     "output_type": "stream",
     "text": [
      "Enter the password:  ayam\n"
     ]
    },
    {
     "name": "stdout",
     "output_type": "stream",
     "text": [
      "Incorrect password. Try again.\n"
     ]
    },
    {
     "name": "stdout",
     "output_type": "stream",
     "text": [
      "Enter the password:  eskrim\n"
     ]
    },
    {
     "name": "stdout",
     "output_type": "stream",
     "text": [
      "Incorrect password. Try again.\n"
     ]
    },
    {
     "name": "stdout",
     "output_type": "stream",
     "text": [
      "Enter the password:  secret\n"
     ]
    },
    {
     "name": "stdout",
     "output_type": "stream",
     "text": [
      "Access granted!\n"
     ]
    }
   ],
   "source": [
    "password = \"secret\"\n",
    "while True:\n",
    "    user_input = input(\"Enter the password: \")\n",
    "    if user_input == password:\n",
    "        print(\"Access granted!\")        \n",
    "        break    \n",
    "    else:\n",
    "        print(\"Incorrect password. Try again.\")\n"
   ]
  },
  {
   "cell_type": "code",
   "execution_count": 5,
   "id": "1a5df513-6ee1-4b00-8144-656863104b1c",
   "metadata": {
    "tags": []
   },
   "outputs": [
    {
     "name": "stdout",
     "output_type": "stream",
     "text": [
      "Enter a number:  2\n"
     ]
    },
    {
     "name": "stdout",
     "output_type": "stream",
     "text": [
      "2 x 1 = 2\n",
      "2 x 2 = 4\n",
      "2 x 3 = 6\n",
      "2 x 4 = 8\n",
      "2 x 5 = 10\n",
      "2 x 6 = 12\n",
      "2 x 7 = 14\n",
      "2 x 8 = 16\n",
      "2 x 9 = 18\n",
      "2 x 10 = 20\n"
     ]
    }
   ],
   "source": [
    "num = int(input(\"Enter a number: \"))\n",
    "\n",
    "for i in range(10):\n",
    "    print(f'{num} x {i+1} = {(i+1)*num}')"
   ]
  },
  {
   "cell_type": "code",
   "execution_count": 7,
   "id": "f53f8907-2bfa-4002-b36c-ea4b467d7bf3",
   "metadata": {
    "tags": []
   },
   "outputs": [
    {
     "name": "stdout",
     "output_type": "stream",
     "text": [
      "Enter a string:  ayam\n"
     ]
    },
    {
     "name": "stdout",
     "output_type": "stream",
     "text": [
      "Jumlah huruf vokal di ayam adalah 2\n"
     ]
    }
   ],
   "source": [
    "text = input(\"Enter a string: \")\n",
    "text = text.lower()  # Convert the input to lowercase for case insensitivity\n",
    "vowel_count = 0\n",
    "for char in text:\n",
    "    if(char == 'a' or char == 'i' or char == 'u' or char == 'e' or char == 'o'):\n",
    "        vowel_count += 1\n",
    "\n",
    "print(f'Jumlah huruf vokal di {text} adalah {vowel_count}')"
   ]
  },
  {
   "cell_type": "code",
   "execution_count": 9,
   "id": "3e233499-6d3e-4429-8c1a-1fcd4fc63fe6",
   "metadata": {
    "tags": []
   },
   "outputs": [
    {
     "name": "stdout",
     "output_type": "stream",
     "text": [
      "Enter a string:  ayam\n"
     ]
    },
    {
     "name": "stdout",
     "output_type": "stream",
     "text": [
      "Number of vowels in the string: 2\n"
     ]
    }
   ],
   "source": [
    "text = input(\"Enter a string: \")\n",
    "text = text.lower()  # Convert the input to lowercase for case insensitivity\n",
    "vowel_count = 0\n",
    "for char in text:    \n",
    "    if char in \"aeiou\":        \n",
    "        vowel_count += 1\n",
    "print(f\"Number of vowels in the string: {vowel_count}\")"
   ]
  },
  {
   "cell_type": "code",
   "execution_count": 11,
   "id": "1daab07e-1407-4b03-a204-97f1d9f89543",
   "metadata": {
    "tags": []
   },
   "outputs": [
    {
     "name": "stdout",
     "output_type": "stream",
     "text": [
      "Halo Fawaz, apa kabar?\n"
     ]
    }
   ],
   "source": [
    "def sapa(text):\n",
    "    print(f'Halo {text}, apa kabar?')\n",
    "\n",
    "sapa('Fawaz')"
   ]
  },
  {
   "cell_type": "code",
   "execution_count": 12,
   "id": "166e9e86-a69a-466f-bf31-8899c53d2cb0",
   "metadata": {
    "tags": []
   },
   "outputs": [
    {
     "name": "stdout",
     "output_type": "stream",
     "text": [
      "4\n"
     ]
    }
   ],
   "source": [
    "def kuadrat(angka):\n",
    "    return angka*angka\n",
    "\n",
    "print(kuadrat(2))"
   ]
  },
  {
   "cell_type": "code",
   "execution_count": 15,
   "id": "fcae83fd-a14a-4848-86db-40997f8d2027",
   "metadata": {
    "tags": []
   },
   "outputs": [
    {
     "name": "stdout",
     "output_type": "stream",
     "text": [
      "6\n"
     ]
    }
   ],
   "source": [
    "def hitung_luas_persegi(panjang=1.0,lebar=1.0):\n",
    "    return(panjang*lebar)\n",
    "\n",
    "print(hitung_luas_persegi(2,3))"
   ]
  },
  {
   "cell_type": "code",
   "execution_count": 19,
   "id": "840e37cb-b2b6-4d24-a6fb-26228126a2e5",
   "metadata": {
    "tags": []
   },
   "outputs": [
    {
     "name": "stdout",
     "output_type": "stream",
     "text": [
      "Achmad Fawaz\n",
      "Achmad \n"
     ]
    }
   ],
   "source": [
    "def bentuk_nama(first_name,last_name=''):\n",
    "    print(f'{first_name} {last_name}')\n",
    "\n",
    "bentuk_nama('Achmad','Fawaz')\n",
    "bentuk_nama('Achmad')"
   ]
  },
  {
   "cell_type": "code",
   "execution_count": 22,
   "id": "61509d58-bf78-482f-8840-9c9b21e349e5",
   "metadata": {
    "tags": []
   },
   "outputs": [
    {
     "name": "stdout",
     "output_type": "stream",
     "text": [
      "37.0\n"
     ]
    }
   ],
   "source": [
    "def konversi_fahrenheit_ke_celcius(f):\n",
    "    return ((f - 32)*5/9)\n",
    "\n",
    "print(konversi_fahrenheit_ke_celcius(98.6))"
   ]
  },
  {
   "cell_type": "code",
   "execution_count": 26,
   "id": "4c1a15d1-4f01-4865-a01d-f55857aacb97",
   "metadata": {
    "tags": []
   },
   "outputs": [
    {
     "name": "stdout",
     "output_type": "stream",
     "text": [
      "16\n"
     ]
    }
   ],
   "source": [
    "def hitung_pangkat(angka, pangkat):\n",
    "    output = 1\n",
    "    if(pangkat == 0):\n",
    "        return output\n",
    "    for i in range(pangkat):\n",
    "        output *= angka\n",
    "    return output\n",
    "    \n",
    "\n",
    "print(hitung_pangkat(2,4))"
   ]
  },
  {
   "cell_type": "code",
   "execution_count": 2,
   "id": "2d9c2d8b-0578-4d98-8d4f-219341ec8ee6",
   "metadata": {},
   "outputs": [
    {
     "name": "stdout",
     "output_type": "stream",
     "text": [
      "[{'nama': 'ayam', 'harga': '20000', 'stok': '5', '': ''}, {'nama': 'eskrim', 'harga': '10000', 'stok': '2', '': ''}, {'nama': 'ikan', 'harga': '7500', 'stok': '2', '': ''}]\n"
     ]
    }
   ],
   "source": [
    "import csv\n",
    "\n",
    "data = []\n",
    "with open ('test.csv', mode = 'r') as file:\n",
    "    data_csv = csv.DictReader(file)\n",
    "\n",
    "    for readData in data_csv:\n",
    "        data.append(readData)\n",
    "\n",
    "print(data)"
   ]
  }
 ],
 "metadata": {
  "kernelspec": {
   "display_name": "Python 3 (ipykernel)",
   "language": "python",
   "name": "python3"
  },
  "language_info": {
   "codemirror_mode": {
    "name": "ipython",
    "version": 3
   },
   "file_extension": ".py",
   "mimetype": "text/x-python",
   "name": "python",
   "nbconvert_exporter": "python",
   "pygments_lexer": "ipython3",
   "version": "3.11.5"
  }
 },
 "nbformat": 4,
 "nbformat_minor": 5
}
