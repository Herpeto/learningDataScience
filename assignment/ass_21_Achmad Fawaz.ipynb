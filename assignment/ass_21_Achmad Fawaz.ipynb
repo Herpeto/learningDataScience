{
 "cells": [
  {
   "cell_type": "markdown",
   "metadata": {},
   "source": [
    "# Latihan part-2"
   ]
  },
  {
   "cell_type": "markdown",
   "metadata": {},
   "source": [
    "Buatlah database 'ass_21'"
   ]
  },
  {
   "cell_type": "code",
   "execution_count": 1,
   "metadata": {},
   "outputs": [],
   "source": [
    "import mysql.connector\n",
    "\n",
    "# Koneksi ke MySQL Server\n",
    "conn = mysql.connector.connect(\n",
    "  host=\"localhost\",\n",
    "  user=\"root\",\n",
    "  passwd=\"fawaz2402\"\n",
    ")\n",
    "\n",
    "# Membuat cursor untuk berinteraksi dengan database\n",
    "cursor = conn.cursor()\n"
   ]
  },
  {
   "cell_type": "code",
   "execution_count": 2,
   "metadata": {},
   "outputs": [],
   "source": [
    "# Membuat database \"ass_21\" jika belum ada\n",
    "cursor.execute(\"CREATE DATABASE ass_21\")\n",
    "\n",
    "# Beralih ke database \"ass_21\"\n",
    "cursor.execute(\"USE ass_21\")"
   ]
  },
  {
   "cell_type": "markdown",
   "metadata": {},
   "source": [
    "Selanjutnya buat tabel 'hostpital'"
   ]
  },
  {
   "cell_type": "code",
   "execution_count": 5,
   "metadata": {},
   "outputs": [
    {
     "name": "stdout",
     "output_type": "stream",
     "text": [
      "Tabel 'Hospital' dan data telah berhasil dibuat di database 'ass_21'.\n"
     ]
    }
   ],
   "source": [
    "# Membuat tabel \"Hospital\" jika belum ada\n",
    "create_table_query = \"\"\"\n",
    "CREATE TABLE IF NOT EXISTS Hospital (\n",
    "Hospital_Id INT UNSIGNED NOT NULL,\n",
    "Hospital_Name TEXT NOT NULL,\n",
    "Bed_Count INT,\n",
    "PRIMARY KEY (Hospital_Id)\n",
    ")\n",
    "\"\"\"\n",
    "\n",
    "cursor.execute(create_table_query)\n",
    "\n",
    "# Mengisi data ke dalam tabel \"Hospital\"\n",
    "insert_data_query = \"\"\"\n",
    "INSERT INTO Hospital (Hospital_Id, Hospital_Name, Bed_Count)\n",
    "VALUES\n",
    "(1, 'Mayo Clinic', 200),\n",
    "(2, 'Cleveland Clinic', 400),\n",
    "(3, 'Johns Hopkins', 1000),\n",
    "(4, 'UCLA Medical Center', 1500)\n",
    "\"\"\"\n",
    "\n",
    "cursor.execute(insert_data_query)\n",
    "\n",
    "# Melakukan commit perubahan ke database\n",
    "conn.commit()\n",
    "\n",
    "# Menutup cursor dan koneksi ke database\n",
    "# cursor.close()\n",
    "# conn.close()\n",
    "\n",
    "print(\"Tabel 'Hospital' dan data telah berhasil dibuat di database 'ass_21'.\")"
   ]
  },
  {
   "cell_type": "markdown",
   "metadata": {},
   "source": [
    "Tabel Doctor"
   ]
  },
  {
   "cell_type": "code",
   "execution_count": 3,
   "metadata": {},
   "outputs": [],
   "source": [
    "# Membuat cursor untuk berinteraksi dengan database\n",
    "cursor = conn.cursor()\n",
    "\n",
    "# Beralih ke database \"ass_21\"\n",
    "cursor.execute(\"USE ass_21\")"
   ]
  },
  {
   "cell_type": "code",
   "execution_count": 4,
   "metadata": {},
   "outputs": [
    {
     "name": "stdout",
     "output_type": "stream",
     "text": [
      "Tabel 'Doctor' dan data telah berhasil dibuat di database 'ass_21'.\n"
     ]
    }
   ],
   "source": [
    "# Membuat tabel \"Doctor\" jika belum ada\n",
    "create_table_query = \"\"\"\n",
    "CREATE TABLE IF NOT EXISTS Doctor(\n",
    "    Doctor_Id INT UNSIGNED NOT NULL,\n",
    "    Doctor_Name TEXT NOT NULL, \n",
    "    Hospital_Id INT NOT NULL, \n",
    "    Joining_Date DATE NOT NULL, \n",
    "    Speciality TEXT NULL, \n",
    "    Salary INT NULL, \n",
    "    Experience INT NULL, \n",
    "    PRIMARY KEY (Doctor_Id)\n",
    ")\n",
    "\"\"\"\n",
    "\n",
    "cursor.execute(create_table_query)\n",
    "\n",
    "# Mengisi data ke dalam tabel \"Doctor\"\n",
    "insert_data_query = \"\"\"\n",
    "INSERT INTO Doctor (Doctor_Id, Doctor_Name, Hospital_Id, Joining_Date, Speciality, Salary, Experience) \n",
    "VALUES \n",
    "(101, 'David', 1, '2005-02-10', 'Pediatric', 40000, NULL), \n",
    "(102, 'Michael', 1, '2018-07-23', 'Oncologist', 20000, NULL), \n",
    "(103, 'Susan', 2, '2016-05-19', 'Garnacologist', 25000, NULL), \n",
    "(104, 'Robert', 2, '2017-12-28', 'Pediatric', 28000, NULL), \n",
    "(105, 'Linda', 3, '2004-06-04', 'Garnacologist', 42000, NULL), \n",
    "(106, 'William', 3, '2012-09-11', 'Dermatologist', 30000, NULL), \n",
    "(107, 'Richard', 4, '2014-08-21', 'Garnacologist', 32000, NULL), \n",
    "(108, 'Karen', 4, '2011-10-17', 'Radiologist', 30000, NULL)\n",
    "\"\"\"\n",
    "\n",
    "cursor.execute(insert_data_query)\n",
    "\n",
    "# Melakukan commit perubahan ke database\n",
    "conn.commit()\n",
    "\n",
    "# Menutup cursor dan koneksi ke database\n",
    "# cursor.close()\n",
    "# conn.close()\n",
    "\n",
    "print(\"Tabel 'Doctor' dan data telah berhasil dibuat di database 'ass_21'.\")\n"
   ]
  },
  {
   "cell_type": "markdown",
   "metadata": {},
   "source": [
    "Lengkapi beberapa fungsi berikut ini agar mendapatkan output sesuai dengan yang diharapkan."
   ]
  },
  {
   "cell_type": "code",
   "execution_count": 2,
   "metadata": {},
   "outputs": [
    {
     "name": "stdout",
     "output_type": "stream",
     "text": [
      "Baca rincian rumah sakit (hospital id=3) dan dokter (dokter id=103)\n",
      "\n",
      "Mencetak Record Rumah Sakit\n",
      "Hospital ID : 3\n",
      "Hospital Name : Johns Hopkins\n",
      "Bed Count : 1000\n",
      "\n",
      "Mencetak Record Doctor\n",
      "Doctor ID : 103\n",
      "Doctor name : Susan\n",
      "Hospital ID : 2\n",
      "Joining Date : 2016-05-19\n",
      "Speciality : Garnacologist\n",
      "Salary : 25000\n",
      "Experience : None\n"
     ]
    }
   ],
   "source": [
    "import mysql.connector\n",
    "\n",
    "def get_connection():\n",
    "    #tambahkan connection ke database\n",
    "    connection = mysql.connector.connect(\n",
    "        host=\"localhost\",\n",
    "        user=\"root\",\n",
    "        passwd=\"fawaz2402\",\n",
    "        database=\"ass_21\"\n",
    "    )\n",
    "    \n",
    "    return connection\n",
    "\n",
    "def close_connection(connection):\n",
    "    if connection:\n",
    "        connection.close()\n",
    "\n",
    "def get_hospital_detail(hospital_id):\n",
    "    #lengkapi disini\n",
    "    try:\n",
    "        connection = get_connection()\n",
    "        cursor = connection.cursor()\n",
    "        select_query = \"\"\"SELECT *\n",
    "        FROM Hospital\n",
    "        WHERE hospital_id = %s\"\"\"\n",
    "        val = (hospital_id,)\n",
    "        cursor.execute(select_query, val)\n",
    "        records = cursor.fetchall()\n",
    "        print(\"Mencetak Record Rumah Sakit\")\n",
    "        \n",
    "        #lengkapi bagian ini dengan looping dari records\n",
    "        for data in records:\n",
    "            print('Hospital ID :',data[0])\n",
    "            print('Hospital Name :',data[1])\n",
    "            print('Bed Count :', data[2])\n",
    "           \n",
    "        close_connection(connection)\n",
    "    except (Exception, mysql.connector.Error) as error:\n",
    "        print(\"Error ketika mengambil data\", error)\n",
    "\n",
    "def get_doctor_detail(doctor_id):\n",
    "    #lengkapi bagian ini\n",
    "    try:\n",
    "        connection = get_connection()\n",
    "        cursor = connection.cursor()\n",
    "        select_query = \"\"\"SELECT *\n",
    "        FROM Doctor\n",
    "        WHERE Doctor_id = %s\"\"\"\n",
    "        val = (doctor_id,)\n",
    "        cursor.execute(select_query, val)\n",
    "        records = cursor.fetchall()\n",
    "        print(\"\\nMencetak Record Doctor\")\n",
    "        \n",
    "        #lengkapi bagian ini dengan looping dari records\n",
    "        for data in records:\n",
    "            print('Doctor ID :',data[0])\n",
    "            print('Doctor name :',data[1])\n",
    "            print('Hospital ID :',data[2])\n",
    "            print('Joining Date :',data[3])\n",
    "            print('Speciality :',data[4])\n",
    "            print('Salary :',data[5])\n",
    "            print('Experience :',data[6])\n",
    "           \n",
    "        close_connection(connection)\n",
    "    except (Exception, mysql.connector.Error) as error:\n",
    "        print(\"Error ketika mengambil data\", error)\n",
    "\n",
    "print(\"Baca rincian rumah sakit (hospital id=3) dan dokter (dokter id=103)\\n\")\n",
    "get_hospital_detail(3)\n",
    "get_doctor_detail(103)\n",
    "#panggil fungsinya\n",
    "\n"
   ]
  },
  {
   "cell_type": "markdown",
   "metadata": {},
   "source": [
    "Output:\n",
    "\n",
    "```\n",
    "Baca rincian rumah sakit (hospital id=3) dan dokter (dokter id=103)\n",
    "\n",
    "Mencetak Record Rumah Sakit\n",
    "Hospital Id: 3\n",
    "Hospital Name: Johns Hopkins\n",
    "Bed Count: 1000\n",
    "\n",
    "\n",
    "Mencetak Record Doktor\n",
    "Doctor Id: 103\n",
    "Doctor Name: Susan\n",
    "Hospital Id: 2\n",
    "Joining Date: 2016-05-19\n",
    "Specialty: Garnacologist\n",
    "Salary: 25000\n",
    "Experience: None\n",
    "```"
   ]
  },
  {
   "cell_type": "markdown",
   "metadata": {},
   "source": [
    "# Latihan part-3"
   ]
  },
  {
   "cell_type": "markdown",
   "metadata": {},
   "source": [
    "1. Dari fungsi sebelumnya buatlah perintah untuk menampilkan Record rumah sakit berdasarkan Id dan menampilkan record dokter dengan Id yang sama seperti rumah sakit.\n",
    "\n",
    "    Contoh :\n",
    "    Jika Hospital Id:3 , maka doctornya adalah Linda dan William."
   ]
  },
  {
   "cell_type": "code",
   "execution_count": 3,
   "metadata": {},
   "outputs": [
    {
     "name": "stdout",
     "output_type": "stream",
     "text": [
      "Mencetak Record Rumah Sakit\n",
      "Hospital ID : 3\n",
      "Hospital Name : Johns Hopkins\n",
      "Bed Count : 1000\n",
      "\n",
      "List dokter yang ada pada Hospital \"Johns Hopkins\" :\n",
      "- Linda\n",
      "- William\n"
     ]
    }
   ],
   "source": [
    "def get_hospital_detail(hospital_id):\n",
    "    #lengkapi disini\n",
    "    try:\n",
    "        connection = get_connection()\n",
    "        cursor = connection.cursor()\n",
    "        select_query = \"\"\"SELECT *\n",
    "        FROM Hospital h\n",
    "        INNER JOIN Doctor d\n",
    "        on h.hospital_id = d.hospital_id\n",
    "        WHERE h.hospital_id = %s\"\"\"\n",
    "        val = (hospital_id,)\n",
    "        cursor.execute(select_query, val)\n",
    "        records = cursor.fetchall()\n",
    "        print(\"Mencetak Record Rumah Sakit\")\n",
    "        \n",
    "        #lengkapi bagian ini dengan looping dari records\n",
    "        print('Hospital ID :',records[0][0])\n",
    "        print('Hospital Name :',records[0][1])\n",
    "        print('Bed Count :', records[0][2])\n",
    "        print(f'\\nList dokter yang ada pada Hospital \"{records[0][1]}\" :')\n",
    "        for data in records:\n",
    "            print('-',data[4])\n",
    "           \n",
    "        close_connection(connection)\n",
    "    except (Exception, mysql.connector.Error) as error:\n",
    "        print(\"Error ketika mengambil data\", error)\n",
    "\n",
    "get_hospital_detail(3)"
   ]
  },
  {
   "cell_type": "markdown",
   "metadata": {},
   "source": [
    "\n",
    "2. Buatlah fungsi untuk mendapatkan output seperti berikut dengan pemanggilan fungsinya:\n",
    "`get_doctor_specialist(\"Garnacologist\", 30000)`\n",
    "\n",
    "    output:\n",
    "\n",
    "    ```\n",
    "    Mencetak dokter yang spesialisasinya adalah Garnacologist dan gaji lebih dari 30000\n",
    "    \n",
    "    Doctor Id:  105\n",
    "    Doctor Name: Linda\n",
    "    Hospital Id: 3\n",
    "    Joining Date: 2004-06-04\n",
    "    Specialty: Garnacologist\n",
    "    Salary: 42000\n",
    "    Experience: None \n",
    "    \n",
    "    Doctor Id:  107\n",
    "    Doctor Name: Richard\n",
    "    Hospital Id: 4\n",
    "    Joining Date: 2014-08-21\n",
    "    Specialty: Garnacologist\n",
    "    Salary: 32000\n",
    "    Experience: None \n",
    "    ```"
   ]
  },
  {
   "cell_type": "code",
   "execution_count": 4,
   "metadata": {},
   "outputs": [
    {
     "name": "stdout",
     "output_type": "stream",
     "text": [
      "\n",
      "Mencetak Record Doctor dengan Speciality 'Garnacologist' dan Salary lebih besar dari 30000\n",
      "Doctor ID : 105\n",
      "Doctor name : Linda\n",
      "Hospital ID : 3\n",
      "Joining Date : 2004-06-04\n",
      "Speciality : Garnacologist\n",
      "Salary : 42000\n",
      "Experience : None\n",
      "\n",
      "Doctor ID : 107\n",
      "Doctor name : Richard\n",
      "Hospital ID : 4\n",
      "Joining Date : 2014-08-21\n",
      "Speciality : Garnacologist\n",
      "Salary : 32000\n",
      "Experience : None\n",
      "\n"
     ]
    }
   ],
   "source": [
    "def get_doctor_specialist(speciality,salary):\n",
    "    try:\n",
    "        connection = get_connection()\n",
    "        cursor = connection.cursor()\n",
    "        select_query = \"\"\"SELECT *\n",
    "        FROM Doctor\n",
    "        WHERE Speciality = %s AND Salary > %s\"\"\"\n",
    "        val = (speciality,salary)\n",
    "        cursor.execute(select_query, val)\n",
    "        records = cursor.fetchall()\n",
    "        print(f\"\\nMencetak Record Doctor dengan Speciality '{speciality}' dan Salary lebih besar dari {salary}\")\n",
    "        \n",
    "        #lengkapi bagian ini dengan looping dari records\n",
    "        for data in records:\n",
    "            print('Doctor ID :',data[0])\n",
    "            print('Doctor name :',data[1])\n",
    "            print('Hospital ID :',data[2])\n",
    "            print('Joining Date :',data[3])\n",
    "            print('Speciality :',data[4])\n",
    "            print('Salary :',data[5])\n",
    "            print('Experience :',data[6])\n",
    "            print('')\n",
    "           \n",
    "        close_connection(connection)\n",
    "    except (Exception, mysql.connector.Error) as error:\n",
    "        print(\"Error ketika mengambil data\", error)\n",
    "    \n",
    "get_doctor_specialist(\"Garnacologist\",30000)"
   ]
  },
  {
   "cell_type": "markdown",
   "metadata": {},
   "source": [
    "3. Buatlah perintah dengan python untuk mencetak data doctor yang Joining_Date diatas bulan ke 5, dan simpan data ke CSV"
   ]
  },
  {
   "cell_type": "code",
   "execution_count": 5,
   "metadata": {},
   "outputs": [
    {
     "name": "stdout",
     "output_type": "stream",
     "text": [
      "\n",
      "Mencetak Record Doctor yang masuk diatas bulan 5\n",
      "\n",
      "[('Doctor_Id', 3, None, None, None, None, 0, 53283, 63), ('Doctor_Name', 252, None, None, None, None, 0, 4113, 255), ('Hospital_Id', 3, None, None, None, None, 0, 36865, 63), ('Joining_Date', 10, None, None, None, None, 0, 4225, 63), ('Speciality', 252, None, None, None, None, 1, 16, 255), ('Salary', 3, None, None, None, None, 1, 32768, 63), ('Experience', 3, None, None, None, None, 1, 32768, 63)]\n"
     ]
    }
   ],
   "source": [
    "import pandas as pd\n",
    "import numpy as np\n",
    "\n",
    "def get_doctor_join_month(month):\n",
    "    try:\n",
    "        connection = get_connection()\n",
    "        cursor = connection.cursor()\n",
    "        select_query = \"\"\"SELECT *\n",
    "        FROM Doctor\n",
    "        WHERE MONTH(Joining_Date) > %s\"\"\"\n",
    "        val = (month,)\n",
    "        cursor.execute(select_query, val)\n",
    "        records = cursor.fetchall()\n",
    "        print(f\"Mencetak Record Doctor yang masuk diatas bulan {month}\\n\")\n",
    "        \n",
    "        # lengkapi bagian ini dengan looping dari records\n",
    "        for data in records:\n",
    "            print('Doctor ID :',data[0])\n",
    "            print('Doctor name :',data[1])\n",
    "            print('Hospital ID :',data[2])\n",
    "            print('Joining Date :',data[3])\n",
    "            print('Speciality :',data[4])\n",
    "            print('Salary :',data[5])\n",
    "            print('Experience :',data[6])\n",
    "            print('')\n",
    "         \n",
    "        columns_name = [i[0] for i in cursor.description]\n",
    "        # print(cursor.description)\n",
    "        df = pd.DataFrame(records,columns=columns_name)\n",
    "        csv_name = \"doctor_join_date_after_\" + str(month) + \".csv\"\n",
    "        df.to_csv(csv_name,index=False)\n",
    "\n",
    "\n",
    "        close_connection(connection)\n",
    "    except (Exception, mysql.connector.Error) as error:\n",
    "        print(\"Error ketika mengambil data\", error)\n",
    "\n",
    "get_doctor_join_month(5)"
   ]
  }
 ],
 "metadata": {
  "kernelspec": {
   "display_name": "Python 3",
   "language": "python",
   "name": "python3"
  },
  "language_info": {
   "codemirror_mode": {
    "name": "ipython",
    "version": 3
   },
   "file_extension": ".py",
   "mimetype": "text/x-python",
   "name": "python",
   "nbconvert_exporter": "python",
   "pygments_lexer": "ipython3",
   "version": "3.11.5"
  },
  "orig_nbformat": 4
 },
 "nbformat": 4,
 "nbformat_minor": 2
}
