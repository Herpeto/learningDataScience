{
 "cells": [
  {
   "cell_type": "code",
   "execution_count": 7,
   "id": "ec81f795-92ba-4817-ab12-5ee7828fd7c1",
   "metadata": {
    "tags": []
   },
   "outputs": [],
   "source": [
    "# Ttetettetetetetet"
   ]
  },
  {
   "cell_type": "code",
   "execution_count": 16,
   "id": "cab85130-458f-4a53-a7a7-fb73ac5e713b",
   "metadata": {
    "tags": []
   },
   "outputs": [
    {
     "name": "stdout",
     "output_type": "stream",
     "text": [
      "<class 'float'>\n"
     ]
    }
   ],
   "source": [
    "a = 5\n",
    "b = 7\n",
    "print(type(a/b))"
   ]
  },
  {
   "cell_type": "code",
   "execution_count": 28,
   "id": "2802c318-a6ae-40df-8810-b232bb980acb",
   "metadata": {
    "tags": []
   },
   "outputs": [
    {
     "name": "stdout",
     "output_type": "stream",
     "text": [
      "{'263', '245', '123'}\n",
      "<class 'set'>\n"
     ]
    }
   ],
   "source": [
    "a = set(['123','245','263','245'])\n",
    "print(a)\n",
    "print(type(a))"
   ]
  }
 ],
 "metadata": {
  "kernelspec": {
   "display_name": "Python 3 (ipykernel)",
   "language": "python",
   "name": "python3"
  },
  "language_info": {
   "codemirror_mode": {
    "name": "ipython",
    "version": 3
   },
   "file_extension": ".py",
   "mimetype": "text/x-python",
   "name": "python",
   "nbconvert_exporter": "python",
   "pygments_lexer": "ipython3",
   "version": "3.11.4"
  }
 },
 "nbformat": 4,
 "nbformat_minor": 5
}
